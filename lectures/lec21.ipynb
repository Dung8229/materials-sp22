{
 "cells": [
  {
   "cell_type": "code",
   "execution_count": 1,
   "id": "cell-lec21-0",
   "metadata": {},
   "outputs": [],
   "source": [
    "from datascience import *\n",
    "%matplotlib inline\n",
    "path_data = '../../../assets/data/'\n",
    "import matplotlib.pyplot as plots\n",
    "plots.style.use('fivethirtyeight')\n",
    "import numpy as np\n",
    "import warnings\n",
    "warnings.simplefilter(action='ignore', category=np.VisibleDeprecationWarning)"
   ]
  },
  {
   "attachments": {},
   "cell_type": "markdown",
   "id": "cell-lec21-1",
   "metadata": {},
   "source": [
    "# Lecture 21"
   ]
  },
  {
   "attachments": {},
   "cell_type": "markdown",
   "id": "cell-lec21-2",
   "metadata": {},
   "source": [
    "## Discussion Question: Super Soda"
   ]
  },
  {
   "cell_type": "code",
   "execution_count": 2,
   "id": "cell-lec21-3",
   "metadata": {
    "scrolled": true
   },
   "outputs": [
    {
     "data": {
      "text/plain": [
       "101"
      ]
     },
     "execution_count": 2,
     "metadata": {},
     "output_type": "execute_result"
    }
   ],
   "source": [
    "def simulate_one_count(sample_size):\n",
    "    return np.count_nonzero(np.random.choice(['H', 'T'], sample_size) == 'H')\n",
    "simulate_one_count(200)"
   ]
  },
  {
   "cell_type": "code",
   "execution_count": 3,
   "id": "cell-lec21-4",
   "metadata": {},
   "outputs": [],
   "source": [
    "num_simulations = 10000\n",
    "counts = make_array()\n",
    "for i in np.arange(num_simulations):\n",
    "    counts = np.append(counts, simulate_one_count(200))"
   ]
  },
  {
   "cell_type": "code",
   "execution_count": 4,
   "id": "cell-lec21-5",
   "metadata": {},
   "outputs": [
    {
     "data": {
      "image/png": "[encoded data removed]",
      "text/plain": [
       "<Figure size 600x400 with 1 Axes>"
      ]
     },
     "metadata": {},
     "output_type": "display_data"
    }
   ],
   "source": [
    "trials = Table().with_column('Number of Heads', counts)\n",
    "trials.hist(right_end=91)\n",
    "plots.ylim(-0.001, 0.055)\n",
    "plots.scatter(91, 0, color='red', s=40, zorder=3)\n",
    "plots.title('Prediction Under the Null');"
   ]
  },
  {
   "cell_type": "code",
   "execution_count": 5,
   "id": "cell-lec21-6",
   "metadata": {},
   "outputs": [
    {
     "data": {
      "text/plain": [
       "0.1122"
      ]
     },
     "execution_count": 5,
     "metadata": {},
     "output_type": "execute_result"
    }
   ],
   "source": [
    "np.count_nonzero(counts <= 91)/len(counts)"
   ]
  },
  {
   "attachments": {},
   "cell_type": "markdown",
   "id": "cell-lec21-7",
   "metadata": {},
   "source": [
    "Conclusion: "
   ]
  },
  {
   "cell_type": "code",
   "execution_count": null,
   "id": "cell-lec21-8",
   "metadata": {},
   "outputs": [],
   "source": []
  },
  {
   "attachments": {},
   "cell_type": "markdown",
   "id": "cell-lec21-9",
   "metadata": {},
   "source": [
    "## Changing the number of simulations"
   ]
  },
  {
   "cell_type": "code",
   "execution_count": 6,
   "id": "cell-lec21-10",
   "metadata": {},
   "outputs": [
    {
     "data": {
      "text/plain": [
       "0.1162"
      ]
     },
     "execution_count": 6,
     "metadata": {},
     "output_type": "execute_result"
    }
   ],
   "source": [
    "# Keeping the data fixed, we can re-run the test with a new simulation under the null\n",
    "def run_test(num_simulations, sample_size):\n",
    "    counts = make_array()\n",
    "    for i in np.arange(num_simulations):\n",
    "        counts = np.append(counts, simulate_one_count(sample_size))\n",
    "    return counts\n",
    "\n",
    "counts = run_test(10000, 200)\n",
    "np.count_nonzero(counts <= 91)/len(counts)"
   ]
  },
  {
   "cell_type": "code",
   "execution_count": 7,
   "id": "cell-lec21-11",
   "metadata": {},
   "outputs": [
    {
     "data": {
      "text/html": [
       "<table border=\"1\" class=\"dataframe\">\n",
       "    <thead>\n",
       "        <tr>\n",
       "            <th>simulations</th> <th>p-value for 91</th>\n",
       "        </tr>\n",
       "    </thead>\n",
       "    <tbody>\n",
       "        <tr>\n",
       "            <td>100        </td> <td>0.21          </td>\n",
       "        </tr>\n",
       "        <tr>\n",
       "            <td>100        </td> <td>0.15          </td>\n",
       "        </tr>\n",
       "        <tr>\n",
       "            <td>100        </td> <td>0.19          </td>\n",
       "        </tr>\n",
       "    </tbody>\n",
       "</table>\n",
       "<p>... (147 rows omitted)</p>"
      ],
      "text/plain": [
       "<IPython.core.display.HTML object>"
      ]
     },
     "metadata": {},
     "output_type": "display_data"
    }
   ],
   "source": [
    "# Let's repeat that 50 times for each number of simulations\n",
    "tests = Table(['simulations', 'p-value for 91'])\n",
    "for num_sims in [100, 1000, 10000]:\n",
    "    for k in np.arange(50):\n",
    "        counts = run_test(num_sims, 200)\n",
    "        tests = tests.with_row([\n",
    "            num_sims, \n",
    "            np.count_nonzero(counts <= 91)/len(counts),\n",
    "        ])\n",
    "tests.show(3)"
   ]
  },
  {
   "cell_type": "code",
   "execution_count": null,
   "id": "cell-lec21-12",
   "metadata": {},
   "outputs": [],
   "source": [
    "# For larger numbers of simulations, p-values are more consistent\n",
    "tests.hist(1, group='simulations')"
   ]
  },
  {
   "cell_type": "code",
   "execution_count": null,
   "id": "cell-lec21-13",
   "metadata": {},
   "outputs": [],
   "source": [
    "# Since a large number of simulations provides a good estimate of the\n",
    "# theoretical distribution of the test statistic under the null hypothesis\n",
    "num_sims = 10000\n",
    "counts_1 = run_test(num_sims, 200)\n",
    "counts_2 = run_test(num_sims, 200)\n",
    "t = Table().with_columns(\n",
    "    'Experiment', [1] * num_sims + [2] * num_sims,\n",
    "    'Number of Heads', np.append(counts_1, counts_2))\n",
    "t.hist(1, group='Experiment', bins=np.arange(70.5, 131, 1))"
   ]
  },
  {
   "attachments": {},
   "cell_type": "markdown",
   "id": "cell-lec21-14",
   "metadata": {},
   "source": [
    "## Changing the size of the taste test"
   ]
  },
  {
   "cell_type": "code",
   "execution_count": null,
   "id": "cell-lec21-15",
   "metadata": {},
   "outputs": [],
   "source": [
    "# Suppose that the true proportion of people who prefer Super Soda is 45%\n",
    "true_proportion = 0.45\n",
    "true_distribution = make_array(true_proportion, 1 - true_proportion)\n",
    "true_distribution"
   ]
  },
  {
   "cell_type": "code",
   "execution_count": null,
   "id": "cell-lec21-16",
   "metadata": {},
   "outputs": [],
   "source": [
    "# Taste tests with 200 people will give varioius numbers of people who prefer Super Soda\n",
    "sample_size = 200\n",
    "sample_proportions(sample_size, true_distribution) * sample_size"
   ]
  },
  {
   "cell_type": "code",
   "execution_count": null,
   "id": "cell-lec21-17",
   "metadata": {},
   "outputs": [],
   "source": [
    "# If you run a taste test for 200 people, what might you conclude?\n",
    "def run_experiment(num_simulations, sample_size, true_proportion):\n",
    "    # Collect data\n",
    "    true_distribution = make_array(true_proportion, 1 - true_proportion)\n",
    "    taste_test_results = sample_proportions(sample_size, true_distribution) * sample_size\n",
    "    observed_stat_from_this_sample = taste_test_results.item(0)\n",
    "    \n",
    "    # Conduct hypothesis test\n",
    "    counts = run_test(num_simulations, sample_size)\n",
    "    p_value = np.count_nonzero(counts <= observed_stat_from_this_sample) / len(counts)\n",
    "    return p_value\n",
    "\n",
    "run_experiment(10000, 200, 0.45)"
   ]
  },
  {
   "cell_type": "code",
   "execution_count": null,
   "id": "cell-lec21-18",
   "metadata": {},
   "outputs": [],
   "source": [
    "# Let's imagine running our taste test over and over again to see how often we reject the null\n",
    "true_proportion = 0.45\n",
    "sample_size = 200\n",
    "p_values = make_array()\n",
    "for k in np.arange(100):\n",
    "    p_value = run_experiment(1000, sample_size, true_proportion)\n",
    "    p_values = np.append(p_values, p_value)\n",
    "Table().with_column('P-value', p_values).hist(0, bins=20)"
   ]
  },
  {
   "attachments": {},
   "cell_type": "markdown",
   "id": "cell-lec21-19",
   "metadata": {},
   "source": [
    "## Discussion Question: Roulette"
   ]
  },
  {
   "cell_type": "code",
   "execution_count": 8,
   "id": "cell-lec21-20",
   "metadata": {},
   "outputs": [],
   "source": [
    "wheel = make_array(18/38, 18/38, 2/38)"
   ]
  },
  {
   "cell_type": "code",
   "execution_count": 9,
   "id": "cell-lec21-21",
   "metadata": {},
   "outputs": [
    {
     "data": {
      "text/plain": [
       "0.036842105263157891"
      ]
     },
     "execution_count": 9,
     "metadata": {},
     "output_type": "execute_result"
    }
   ],
   "source": [
    "obs_counts = make_array(166, 186, 28)\n",
    "obs_distribution = obs_counts / 380\n",
    "obs_tvd = sum(abs(obs_distribution - wheel))/2\n",
    "obs_tvd"
   ]
  },
  {
   "cell_type": "code",
   "execution_count": 10,
   "id": "cell-lec21-22",
   "metadata": {},
   "outputs": [],
   "source": [
    "def simulate_one_tvd():\n",
    "    sample_dist = sample_proportions(380, wheel)\n",
    "    return sum(abs(sample_dist - wheel))/2"
   ]
  },
  {
   "cell_type": "code",
   "execution_count": 11,
   "id": "cell-lec21-23",
   "metadata": {},
   "outputs": [],
   "source": [
    "num_simulations = 10000\n",
    "tvds = make_array()\n",
    "for i in np.arange(10000):\n",
    "    tvds = np.append(tvds, simulate_one_tvd())"
   ]
  },
  {
   "cell_type": "code",
   "execution_count": 12,
   "id": "cell-lec21-24",
   "metadata": {},
   "outputs": [
    {
     "data": {
      "image/png": "[encoded data removed]",
      "text/plain": [
       "<Figure size 600x400 with 1 Axes>"
      ]
     },
     "metadata": {},
     "output_type": "display_data"
    }
   ],
   "source": [
    "Table().with_column('TVD', tvds).hist(left_end=obs_tvd)\n",
    "plots.ylim(-0.5, 32)\n",
    "plots.scatter(obs_tvd, 0, color='red', s=40, zorder=3)\n",
    "plots.title('Prediction Under the Null');"
   ]
  },
  {
   "cell_type": "code",
   "execution_count": 13,
   "id": "cell-lec21-25",
   "metadata": {},
   "outputs": [
    {
     "data": {
      "text/plain": [
       "0.2149"
      ]
     },
     "execution_count": 13,
     "metadata": {},
     "output_type": "execute_result"
    }
   ],
   "source": [
    "np.count_nonzero(tvds >= obs_tvd)/num_simulations"
   ]
  },
  {
   "attachments": {},
   "cell_type": "markdown",
   "id": "cell-lec21-26",
   "metadata": {},
   "source": [
    "Conclusion: "
   ]
  }
 ],
 "metadata": {
  "kernelspec": {
   "display_name": "Python 3",
   "language": "python",
   "name": "python3"
  },
  "language_info": {
   "codemirror_mode": {
    "name": "ipython",
    "version": 3
   },
   "file_extension": ".py",
   "mimetype": "text/x-python",
   "name": "python",
   "nbconvert_exporter": "python",
   "pygments_lexer": "ipython3",
   "version": "3.11.9"
  }
 },
 "nbformat": 4,
 "nbformat_minor": 5
}
